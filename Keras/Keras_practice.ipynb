{
  "nbformat": 4,
  "nbformat_minor": 0,
  "metadata": {
    "colab": {
      "name": "Untitled0.ipynb",
      "provenance": []
    },
    "kernelspec": {
      "name": "python3",
      "display_name": "Python 3"
    }
  },
  "cells": [
    {
      "cell_type": "markdown",
      "metadata": {
        "id": "c6EqoITKfaXY"
      },
      "source": [
        "## Imports Needed"
      ]
    },
    {
      "cell_type": "code",
      "metadata": {
        "id": "4Q-IeROOff-a"
      },
      "source": [
        "from sklearn import datasets\r\n",
        "from sklearn.preprocessing import StandardScaler\r\n",
        "from sklearn.model_selection import train_test_split\r\n",
        "\r\n",
        "from keras.models import Sequential\r\n",
        "from keras.layers import Dense"
      ],
      "execution_count": 3,
      "outputs": []
    },
    {
      "cell_type": "markdown",
      "metadata": {
        "id": "bdMJif_DhJC3"
      },
      "source": [
        "### Create Model"
      ]
    },
    {
      "cell_type": "code",
      "metadata": {
        "id": "S2CEJDsfgTA2"
      },
      "source": [
        "model = Sequential()"
      ],
      "execution_count": 5,
      "outputs": []
    },
    {
      "cell_type": "markdown",
      "metadata": {
        "id": "uoWUfo6LhRp-"
      },
      "source": [
        "### Add Layers"
      ]
    },
    {
      "cell_type": "code",
      "metadata": {
        "id": "ixYzwGwqhVFU"
      },
      "source": [
        "layer1 = Dense(units=32, activation='relu', input_dim=30)\r\n",
        "model.add(layer1)\r\n",
        "model.add(Dense(units=16, activation='relu'))\r\n",
        "model.add(Dense(units=1, activation='sigmoid'))"
      ],
      "execution_count": 7,
      "outputs": []
    },
    {
      "cell_type": "markdown",
      "metadata": {
        "id": "mcTwmC24hLtJ"
      },
      "source": [
        "### Compile"
      ]
    },
    {
      "cell_type": "code",
      "metadata": {
        "id": "DX0lgdF1hOru"
      },
      "source": [
        "model.compile(optimizer='adam', loss='binary_crossentropy', metrics=['accuracy'])"
      ],
      "execution_count": 8,
      "outputs": []
    },
    {
      "cell_type": "markdown",
      "metadata": {
        "id": "3gWXZ_hKiKp_"
      },
      "source": [
        "### Load and Scale the data"
      ]
    },
    {
      "cell_type": "code",
      "metadata": {
        "id": "75m6bDPYiVyd"
      },
      "source": [
        "cancer = datasets.load_breast_cancer()\r\n",
        "x_train, x_test, y_train, y_test = train_test_split(cancer.data, cancer.target, test_size=0.2, random_state=0)\r\n",
        "\r\n",
        "sc = StandardScaler()\r\n",
        "x_train = sc.fit_transform(x_train)\r\n",
        "x_test = sc.transform(x_test)"
      ],
      "execution_count": 9,
      "outputs": []
    },
    {
      "cell_type": "markdown",
      "metadata": {
        "id": "KMrpifXujHxE"
      },
      "source": [
        "###  Fit the model"
      ]
    },
    {
      "cell_type": "code",
      "metadata": {
        "colab": {
          "base_uri": "https://localhost:8080/"
        },
        "id": "Iup5WC-6jGij",
        "outputId": "b7f30938-2e1a-473b-9de5-071da6c8121a"
      },
      "source": [
        "model.fit(x_train, y_train, epochs=20, validation_data=(x_test, y_test), batch_size=50)"
      ],
      "execution_count": 10,
      "outputs": [
        {
          "output_type": "stream",
          "text": [
            "Epoch 1/20\n",
            "10/10 [==============================] - 1s 23ms/step - loss: 0.6519 - accuracy: 0.5809 - val_loss: 0.5597 - val_accuracy: 0.8333\n",
            "Epoch 2/20\n",
            "10/10 [==============================] - 0s 5ms/step - loss: 0.5503 - accuracy: 0.8284 - val_loss: 0.4577 - val_accuracy: 0.9474\n",
            "Epoch 3/20\n",
            "10/10 [==============================] - 0s 5ms/step - loss: 0.4537 - accuracy: 0.9361 - val_loss: 0.3779 - val_accuracy: 0.9298\n",
            "Epoch 4/20\n",
            "10/10 [==============================] - 0s 4ms/step - loss: 0.3844 - accuracy: 0.9531 - val_loss: 0.3116 - val_accuracy: 0.9211\n",
            "Epoch 5/20\n",
            "10/10 [==============================] - 0s 5ms/step - loss: 0.3095 - accuracy: 0.9601 - val_loss: 0.2580 - val_accuracy: 0.9211\n",
            "Epoch 6/20\n",
            "10/10 [==============================] - 0s 4ms/step - loss: 0.2545 - accuracy: 0.9687 - val_loss: 0.2169 - val_accuracy: 0.9211\n",
            "Epoch 7/20\n",
            "10/10 [==============================] - 0s 5ms/step - loss: 0.1982 - accuracy: 0.9791 - val_loss: 0.1865 - val_accuracy: 0.9211\n",
            "Epoch 8/20\n",
            "10/10 [==============================] - 0s 4ms/step - loss: 0.1897 - accuracy: 0.9639 - val_loss: 0.1646 - val_accuracy: 0.9298\n",
            "Epoch 9/20\n",
            "10/10 [==============================] - 0s 5ms/step - loss: 0.1488 - accuracy: 0.9757 - val_loss: 0.1485 - val_accuracy: 0.9386\n",
            "Epoch 10/20\n",
            "10/10 [==============================] - 0s 4ms/step - loss: 0.1263 - accuracy: 0.9742 - val_loss: 0.1365 - val_accuracy: 0.9386\n",
            "Epoch 11/20\n",
            "10/10 [==============================] - 0s 5ms/step - loss: 0.1265 - accuracy: 0.9740 - val_loss: 0.1273 - val_accuracy: 0.9386\n",
            "Epoch 12/20\n",
            "10/10 [==============================] - 0s 5ms/step - loss: 0.1072 - accuracy: 0.9795 - val_loss: 0.1197 - val_accuracy: 0.9474\n",
            "Epoch 13/20\n",
            "10/10 [==============================] - 0s 6ms/step - loss: 0.0963 - accuracy: 0.9804 - val_loss: 0.1128 - val_accuracy: 0.9474\n",
            "Epoch 14/20\n",
            "10/10 [==============================] - 0s 5ms/step - loss: 0.1061 - accuracy: 0.9785 - val_loss: 0.1070 - val_accuracy: 0.9474\n",
            "Epoch 15/20\n",
            "10/10 [==============================] - 0s 5ms/step - loss: 0.0826 - accuracy: 0.9833 - val_loss: 0.1022 - val_accuracy: 0.9561\n",
            "Epoch 16/20\n",
            "10/10 [==============================] - 0s 5ms/step - loss: 0.1008 - accuracy: 0.9774 - val_loss: 0.0982 - val_accuracy: 0.9649\n",
            "Epoch 17/20\n",
            "10/10 [==============================] - 0s 5ms/step - loss: 0.0749 - accuracy: 0.9809 - val_loss: 0.0941 - val_accuracy: 0.9649\n",
            "Epoch 18/20\n",
            "10/10 [==============================] - 0s 5ms/step - loss: 0.0673 - accuracy: 0.9842 - val_loss: 0.0913 - val_accuracy: 0.9649\n",
            "Epoch 19/20\n",
            "10/10 [==============================] - 0s 5ms/step - loss: 0.0657 - accuracy: 0.9863 - val_loss: 0.0887 - val_accuracy: 0.9649\n",
            "Epoch 20/20\n",
            "10/10 [==============================] - 0s 5ms/step - loss: 0.0608 - accuracy: 0.9857 - val_loss: 0.0862 - val_accuracy: 0.9649\n"
          ],
          "name": "stdout"
        },
        {
          "output_type": "execute_result",
          "data": {
            "text/plain": [
              "<tensorflow.python.keras.callbacks.History at 0x7f685a986160>"
            ]
          },
          "metadata": {
            "tags": []
          },
          "execution_count": 10
        }
      ]
    },
    {
      "cell_type": "markdown",
      "metadata": {
        "id": "nAbMahYwjtfg"
      },
      "source": [
        "### Evaluate and Predict"
      ]
    },
    {
      "cell_type": "code",
      "metadata": {
        "colab": {
          "base_uri": "https://localhost:8080/"
        },
        "id": "yF8XbLerjzaQ",
        "outputId": "4ed4d705-660b-4534-b700-54b0038f288a"
      },
      "source": [
        "predictions = model.predict(x_test)\r\n",
        "predictions"
      ],
      "execution_count": 12,
      "outputs": [
        {
          "output_type": "execute_result",
          "data": {
            "text/plain": [
              "array([[8.61027837e-03],\n",
              "       [9.81213570e-01],\n",
              "       [9.95533347e-01],\n",
              "       [9.74752784e-01],\n",
              "       [9.99331474e-01],\n",
              "       [9.90965366e-01],\n",
              "       [9.93139148e-01],\n",
              "       [9.95209694e-01],\n",
              "       [9.99243975e-01],\n",
              "       [9.99611735e-01],\n",
              "       [6.70000017e-01],\n",
              "       [9.26893711e-01],\n",
              "       [9.99521255e-01],\n",
              "       [3.75211656e-01],\n",
              "       [5.41226208e-01],\n",
              "       [1.59251392e-02],\n",
              "       [9.88896728e-01],\n",
              "       [7.25244608e-05],\n",
              "       [1.95860863e-04],\n",
              "       [2.99131898e-06],\n",
              "       [6.13010526e-02],\n",
              "       [1.11383796e-02],\n",
              "       [9.68034983e-01],\n",
              "       [9.94544744e-01],\n",
              "       [1.39653683e-03],\n",
              "       [9.96952772e-01],\n",
              "       [9.99355555e-01],\n",
              "       [1.48739815e-02],\n",
              "       [9.91200566e-01],\n",
              "       [4.90363454e-05],\n",
              "       [9.99203563e-01],\n",
              "       [1.58005953e-03],\n",
              "       [8.39825034e-01],\n",
              "       [7.45171309e-03],\n",
              "       [9.99796808e-01],\n",
              "       [5.57214022e-03],\n",
              "       [9.84409034e-01],\n",
              "       [5.72559237e-03],\n",
              "       [9.78752375e-01],\n",
              "       [7.48947263e-03],\n",
              "       [3.31226528e-01],\n",
              "       [9.98774529e-01],\n",
              "       [2.50158548e-01],\n",
              "       [9.99180794e-01],\n",
              "       [8.99630427e-01],\n",
              "       [1.61886385e-06],\n",
              "       [9.99924958e-01],\n",
              "       [9.79590297e-01],\n",
              "       [9.97609377e-01],\n",
              "       [1.11952424e-03],\n",
              "       [2.30967999e-04],\n",
              "       [3.12047303e-02],\n",
              "       [7.84665346e-04],\n",
              "       [9.93899167e-01],\n",
              "       [9.77156281e-01],\n",
              "       [9.96676326e-01],\n",
              "       [9.95787501e-01],\n",
              "       [9.95159507e-01],\n",
              "       [9.93452847e-01],\n",
              "       [1.39123586e-06],\n",
              "       [1.47018731e-02],\n",
              "       [7.54576921e-03],\n",
              "       [9.98595834e-01],\n",
              "       [9.83158112e-01],\n",
              "       [2.38153338e-03],\n",
              "       [9.50377285e-01],\n",
              "       [1.33010847e-09],\n",
              "       [1.57214745e-05],\n",
              "       [3.51342096e-05],\n",
              "       [9.97966051e-01],\n",
              "       [6.23534083e-01],\n",
              "       [1.78992748e-04],\n",
              "       [9.93703008e-01],\n",
              "       [2.80922621e-01],\n",
              "       [3.64843218e-05],\n",
              "       [9.86997962e-01],\n",
              "       [9.99477983e-01],\n",
              "       [8.99794340e-01],\n",
              "       [9.97966051e-01],\n",
              "       [9.99535084e-01],\n",
              "       [1.74479187e-02],\n",
              "       [2.93823376e-07],\n",
              "       [2.72572041e-04],\n",
              "       [9.99446392e-01],\n",
              "       [2.02908218e-02],\n",
              "       [9.94305253e-01],\n",
              "       [9.99387324e-01],\n",
              "       [9.99732614e-01],\n",
              "       [7.34597445e-04],\n",
              "       [1.32275702e-08],\n",
              "       [9.99595165e-01],\n",
              "       [4.30863857e-01],\n",
              "       [3.25231701e-01],\n",
              "       [5.70339471e-05],\n",
              "       [9.97943521e-01],\n",
              "       [9.93143916e-01],\n",
              "       [5.77817991e-05],\n",
              "       [9.64707553e-01],\n",
              "       [9.76045907e-01],\n",
              "       [9.96064663e-01],\n",
              "       [9.99889016e-01],\n",
              "       [9.92282748e-01],\n",
              "       [9.90504026e-01],\n",
              "       [7.87391067e-01],\n",
              "       [7.52329826e-04],\n",
              "       [9.98411417e-01],\n",
              "       [2.57405773e-05],\n",
              "       [8.47474694e-01],\n",
              "       [8.28723550e-01],\n",
              "       [6.72929883e-01],\n",
              "       [9.39679682e-01],\n",
              "       [1.12936483e-04],\n",
              "       [1.06793642e-03],\n",
              "       [8.47555399e-01]], dtype=float32)"
            ]
          },
          "metadata": {
            "tags": []
          },
          "execution_count": 12
        }
      ]
    },
    {
      "cell_type": "code",
      "metadata": {
        "colab": {
          "base_uri": "https://localhost:8080/"
        },
        "id": "K_YRb3eSj7hy",
        "outputId": "522ecfd2-6401-4029-f43d-a1b52178e0b3"
      },
      "source": [
        "score = model.evaluate(x_test, y_test)\r\n",
        "score"
      ],
      "execution_count": 13,
      "outputs": [
        {
          "output_type": "stream",
          "text": [
            "4/4 [==============================] - 0s 2ms/step - loss: 0.0862 - accuracy: 0.9649\n"
          ],
          "name": "stdout"
        },
        {
          "output_type": "execute_result",
          "data": {
            "text/plain": [
              "[0.08624844253063202, 0.9649122953414917]"
            ]
          },
          "metadata": {
            "tags": []
          },
          "execution_count": 13
        }
      ]
    }
  ]
}