{
 "cells": [
  {
   "cell_type": "markdown",
   "metadata": {},
   "source": [
    "### Imports "
   ]
  },
  {
   "cell_type": "code",
   "execution_count": 1,
   "metadata": {},
   "outputs": [],
   "source": [
    "import numpy as np"
   ]
  },
  {
   "cell_type": "code",
   "execution_count": 2,
   "metadata": {},
   "outputs": [],
   "source": [
    "x = np.array([[0,0], [0,1], [1,0], [1,1]])\n",
    "y = np.array([[0,0,0,1]]).T"
   ]
  },
  {
   "cell_type": "code",
   "execution_count": 3,
   "metadata": {},
   "outputs": [
    {
     "name": "stdout",
     "output_type": "stream",
     "text": [
      "(4, 2) (4, 1)\n"
     ]
    }
   ],
   "source": [
    "print(x.shape, y.shape)"
   ]
  },
  {
   "cell_type": "markdown",
   "metadata": {},
   "source": [
    "### Sigmoid function"
   ]
  },
  {
   "cell_type": "code",
   "execution_count": 13,
   "metadata": {},
   "outputs": [],
   "source": [
    "def sig(z):\n",
    "    return 1/(1+np.exp(-z))"
   ]
  },
  {
   "cell_type": "markdown",
   "metadata": {},
   "source": [
    "### Derivative of sigmoid"
   ]
  },
  {
   "cell_type": "code",
   "execution_count": 14,
   "metadata": {},
   "outputs": [],
   "source": [
    "def derivativeSig(z):\n",
    "    return sig(z)*(1-sig(z))"
   ]
  },
  {
   "cell_type": "markdown",
   "metadata": {},
   "source": [
    "### Initialize weights without any hidden layer\n",
    "- We want to initialize within range [-1, 1]"
   ]
  },
  {
   "cell_type": "code",
   "execution_count": 16,
   "metadata": {},
   "outputs": [],
   "source": [
    "weights = 2* np.random.random((2,1)) - 1\n",
    "bias = 2* np.random.random(1) - 1 # Only1 bias bcz this is the simplestneural network without any hidden layer\n",
    "lr = 0.1 # learning rate"
   ]
  },
  {
   "cell_type": "markdown",
   "metadata": {},
   "source": [
    "### Forward Propagation \n",
    "- output0 = x  # output of input layers can be thought of as input (feaures) given\n",
    "- output = sig(np.dot( output0 ,weights) + bias)"
   ]
  },
  {
   "cell_type": "markdown",
   "metadata": {},
   "source": [
    "### Implement neural network without hidden layer"
   ]
  },
  {
   "cell_type": "code",
   "execution_count": 18,
   "metadata": {},
   "outputs": [],
   "source": [
    "for iter in range(10000):\n",
    "    output0 = x\n",
    "    output = sig(np.dot(output0, weights)+bias)\n",
    "    \n",
    "    first_term = output-y\n",
    "    input_for_last_layer = np.dot(output0, weights)+bias\n",
    "    second_term = derivativeSig(input_for_last_layer)\n",
    "    first_two = first_term*second_term\n",
    "    \n",
    "    changes = np.array([[0.0],[0.0]])\n",
    "    for i in range(2):\n",
    "        for j in range(4):\n",
    "            changes[i][0] += first_two[j][0]*output0[j][i]\n",
    "            \n",
    "    # Update weights\n",
    "    weights = weights - lr*changes\n",
    "    \n",
    "    \n",
    "    bias_change = 0.0\n",
    "    for j in range(4):\n",
    "        bias_change += first_two[j][0]*1\n",
    "            \n",
    "    # Update Bias\n",
    "    bias = bias - lr*bias_change"
   ]
  },
  {
   "cell_type": "markdown",
   "metadata": {},
   "source": [
    "### Now our Neural Network would have learn all weights which minimizes the error. So lets check output on this trained neural network"
   ]
  },
  {
   "cell_type": "code",
   "execution_count": 19,
   "metadata": {},
   "outputs": [],
   "source": [
    "output = sig(np.dot(x,weights)+bias)"
   ]
  },
  {
   "cell_type": "code",
   "execution_count": 21,
   "metadata": {},
   "outputs": [
    {
     "data": {
      "text/plain": [
       "array([[2.47897105e-04],\n",
       "       [5.57649261e-02],\n",
       "       [5.57649265e-02],\n",
       "       [9.33627132e-01]])"
      ]
     },
     "execution_count": 21,
     "metadata": {},
     "output_type": "execute_result"
    }
   ],
   "source": [
    "output"
   ]
  },
  {
   "cell_type": "code",
   "execution_count": 22,
   "metadata": {},
   "outputs": [
    {
     "name": "stdout",
     "output_type": "stream",
     "text": [
      "[[5.47301883]\n",
      " [5.47301882]] [-8.30224887]\n"
     ]
    }
   ],
   "source": [
    "print(weights, bias)"
   ]
  },
  {
   "cell_type": "markdown",
   "metadata": {},
   "source": [
    "### Optimize Code Using Vector Operations\n",
    "- In above code we use for loops which are hard coded i.e j run 4 times. Now we modify our code sucht that it works for any number of data points"
   ]
  },
  {
   "cell_type": "code",
   "execution_count": 23,
   "metadata": {},
   "outputs": [],
   "source": [
    "for iter in range(10000):\n",
    "    output0 = x\n",
    "    output = sig(np.dot(output0, weights)+bias)\n",
    "    \n",
    "    first_term = output-y\n",
    "    input_for_last_layer = np.dot(output0, weights)+bias\n",
    "    second_term = derivativeSig(input_for_last_layer)\n",
    "    first_two = first_term*second_term\n",
    "    \n",
    "    changes = np.dot(output0.T, first_two)\n",
    "    # Update weights\n",
    "    weights = weights - lr*changes\n",
    "    \n",
    "    \n",
    "    bias_change = np.sum(first_two)\n",
    "    # Update Bias\n",
    "    bias = bias - lr*bias_change"
   ]
  },
  {
   "cell_type": "code",
   "execution_count": 24,
   "metadata": {},
   "outputs": [
    {
     "data": {
      "text/plain": [
       "array([[7.51927155e-05],\n",
       "       [3.82353313e-02],\n",
       "       [3.82353313e-02],\n",
       "       [9.54581842e-01]])"
      ]
     },
     "execution_count": 24,
     "metadata": {},
     "output_type": "execute_result"
    }
   ],
   "source": [
    "output = sig(np.dot(x,weights)+bias)\n",
    "output"
   ]
  }
 ],
 "metadata": {
  "kernelspec": {
   "display_name": "Python 3",
   "language": "python",
   "name": "python3"
  },
  "language_info": {
   "codemirror_mode": {
    "name": "ipython",
    "version": 3
   },
   "file_extension": ".py",
   "mimetype": "text/x-python",
   "name": "python",
   "nbconvert_exporter": "python",
   "pygments_lexer": "ipython3",
   "version": "3.7.3"
  }
 },
 "nbformat": 4,
 "nbformat_minor": 4
}
